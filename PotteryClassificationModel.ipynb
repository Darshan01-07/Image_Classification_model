{
  "cells": [
    {
      "cell_type": "code",
      "execution_count": null,
      "metadata": {
        "id": "WHFuMtGUZFKi",
        "colab": {
          "base_uri": "https://localhost:8080/"
        },
        "outputId": "6adadf16-7b9f-4ab8-bb91-493465878a4b"
      },
      "outputs": [
        {
          "output_type": "stream",
          "name": "stdout",
          "text": [
            "Mounted at /content/drive\n"
          ]
        }
      ],
      "source": [
        "from google.colab import drive\n",
        "drive.mount('/content/drive')\n",
        "\n",
        "# /content/drive/MyDrive/AiHackathon/AiImage"
      ]
    },
    {
      "cell_type": "markdown",
      "metadata": {
        "id": "ZzjAQPsGC0n-"
      },
      "source": [
        "#import libraries"
      ]
    },
    {
      "cell_type": "code",
      "execution_count": null,
      "metadata": {
        "id": "aekXr9hmZMK9"
      },
      "outputs": [],
      "source": [
        "\n",
        "import os\n",
        "import cv2\n",
        "import numpy as np\n",
        "from keras import backend as k\n",
        "import matplotlib.pyplot as plt"
      ]
    },
    {
      "cell_type": "code",
      "execution_count": null,
      "metadata": {
        "id": "me1yIK0YZWH0"
      },
      "outputs": [],
      "source": [
        "import tensorflow as tf\n",
        "import scipy\n",
        "from tensorflow.keras.models import Sequential, load_model\n",
        "from tensorflow.keras.layers import Dense, Dropout, Activation, Flatten, Conv2D, MaxPooling2D, GlobalAveragePooling2D,BatchNormalization,AveragePooling2D\n",
        "from tensorflow.keras.callbacks import TensorBoard\n",
        "from datetime import datetime"
      ]
    },
    {
      "cell_type": "markdown",
      "metadata": {
        "id": "0TzI3gS_EIC0"
      },
      "source": [
        "#Creating the dataset, resizing, applying greyscale filter\n"
      ]
    },
    {
      "cell_type": "code",
      "execution_count": null,
      "metadata": {
        "id": "OOlKbXV0ZZlP"
      },
      "outputs": [],
      "source": [
        "dataDir_Tr = \"/content/drive/MyDrive/AiHackathon/AiImage\"\n",
        "dataDir_Ts = \"/content/drive/MyDrive/AiHackathon/testData\"\n",
        "CATEGORIES = [\"clay cups\",\"clay doll\",\"clay flower pot\",\"kalah\",\"saaki\"]\n",
        "IMG_SIZE = 50"
      ]
    },
    {
      "cell_type": "code",
      "execution_count": null,
      "metadata": {
        "id": "8l4O_ijxasZU"
      },
      "outputs": [],
      "source": [
        "\n",
        "training_data = []\n",
        "testing_data = []\n",
        "\n",
        "def create_training_data(dataDir,X):\n",
        "    for category in CATEGORIES:\n",
        "        path = os.path.join(dataDir, category)  #path for the image\n",
        "        class_num = CATEGORIES.index(category)  \n",
        "        for img in os.listdir(path):\n",
        "            try:\n",
        "                img_array = cv2.imread(os.path.join(path,img), cv2.IMREAD_GRAYSCALE)  #reading the image in grayscale \n",
        "                new_array = cv2.resize(img_array, (IMG_SIZE, IMG_SIZE))  ##resizing the image\n",
        "                X.append([new_array, class_num])  #Appending the images into an array\n",
        "            except Exception as e:\n",
        "                pass\n",
        "\n",
        "create_training_data(dataDir_Tr,training_data)\n",
        "create_training_data(dataDir_Ts,testing_data)"
      ]
    },
    {
      "cell_type": "markdown",
      "metadata": {
        "id": "1ZIf6d7LHqa2"
      },
      "source": [
        "# Convert To Numpy Array and Normalizing The Array"
      ]
    },
    {
      "cell_type": "code",
      "execution_count": null,
      "metadata": {
        "id": "7yukHqyXkThq"
      },
      "outputs": [],
      "source": [
        "#for training_data array\n",
        "X = []\n",
        "y = []\n",
        "\n",
        "for featuresTrain, labelTrain in training_data: #tagging the images\n",
        "    X.append(featuresTrain)\n",
        "    y.append(labelTrain)\n",
        "\n",
        "X = np.array(X).reshape(-1,IMG_SIZE, IMG_SIZE, 1)  #reshaping the array\n",
        "\n",
        "#converting the array to numpy array\n",
        "X_tr = np.asarray(X)  \n",
        "X_tr = X_tr.astype('float32')\n",
        "Y_tr = np.asarray(y)\n",
        "X_tr /= 255  #normalizing the array to range between 0 and 1\n"
      ]
    },
    {
      "cell_type": "code",
      "execution_count": null,
      "metadata": {
        "id": "Q9kkvOubhzsq"
      },
      "outputs": [],
      "source": [
        "#for testing_data array\n",
        "P = []\n",
        "q = []\n",
        "\n",
        "for featuresTest, labelTest in testing_data:  #tagging the images\n",
        "    P.append(featuresTest)\n",
        "    q.append(labelTest)\n",
        "    \n",
        "P = np.array(P).reshape(-1,IMG_SIZE, IMG_SIZE, 1)  #reshaping the array\n",
        "\n",
        "#converting the array to numpy array\n",
        "P_ts = np.asarray(P)\n",
        "Q_ts = np.asarray(q)\n",
        "P_ts = P_ts.astype('float32')\n",
        "P_ts /= 255  #normalizing the array to range between 0 and 1\n"
      ]
    },
    {
      "cell_type": "markdown",
      "metadata": {
        "id": "fPlJfeL1J8Do"
      },
      "source": [
        "#Creating Log Report"
      ]
    },
    {
      "cell_type": "code",
      "execution_count": null,
      "metadata": {
        "id": "oPFELZRLeL56"
      },
      "outputs": [],
      "source": [
        "#path for log files\n",
        "NAME = \"potteryClassification-cnn-{}\"\n",
        "logdir=\"/content/drive/MyDrive/AiHackathon/logs/\"+ datetime.now().strftime(\"%Y-%m-%d[%Hh %Mm %Ss]\")+NAME\n",
        "tb = TensorBoard(log_dir= logdir)"
      ]
    },
    {
      "cell_type": "markdown",
      "metadata": {
        "id": "250eoaLuKduL"
      },
      "source": [
        "#Creating CNN Model"
      ]
    },
    {
      "cell_type": "code",
      "execution_count": null,
      "metadata": {
        "id": "TJuSHeX6oDPF"
      },
      "outputs": [],
      "source": [
        "model = Sequential()\n",
        "\n",
        "model.add(Conv2D(32, (5, 5), strides = (1, 1), input_shape = (IMG_SIZE, IMG_SIZE, 1)))\n",
        "model.add(BatchNormalization(axis = 3))\n",
        "model.add(Activation('relu'))\n",
        "model.add(MaxPooling2D((2, 2)))\n",
        "\n",
        "model.add(Conv2D(64, (3, 3), strides = (1,1)))\n",
        "model.add(Activation('relu'))\n",
        "model.add(AveragePooling2D((3, 3)))\n",
        "\n",
        "model.add(Conv2D(64, (3,3)))\n",
        "model.add(Activation(\"relu\"))\n",
        "model.add(MaxPooling2D(pool_size=(2,2)))\n",
        "model.add(GlobalAveragePooling2D())\n",
        "model.add(Dense(300, activation=\"relu\"))\n",
        "model.add(Dropout(0.5))\n",
        "\n",
        "model.add(Flatten())\n",
        "model.add(Dense(5,activation='softmax'))"
      ]
    },
    {
      "cell_type": "markdown",
      "metadata": {
        "id": "nw7XhirNKs9v"
      },
      "source": [
        "#Compile And Run "
      ]
    },
    {
      "cell_type": "code",
      "execution_count": null,
      "metadata": {
        "id": "6rMW5zXGpAEP"
      },
      "outputs": [],
      "source": [
        "model.compile(optimizer=tf.keras.optimizers.Adam(),loss='sparse_categorical_crossentropy',metrics=['accuracy'])\n"
      ]
    },
    {
      "cell_type": "code",
      "execution_count": null,
      "metadata": {
        "id": "W7V6j7-fpBKP",
        "outputId": "586be105-fd2d-4d84-e203-f13755e6c5e4",
        "colab": {
          "base_uri": "https://localhost:8080/"
        }
      },
      "outputs": [
        {
          "output_type": "stream",
          "name": "stdout",
          "text": [
            "Epoch 1/80\n",
            "55/55 [==============================] - 9s 142ms/step - loss: 1.4950 - accuracy: 0.3788 - val_loss: 1.5923 - val_accuracy: 0.2434\n",
            "Epoch 2/80\n",
            "55/55 [==============================] - 8s 138ms/step - loss: 1.3950 - accuracy: 0.4350 - val_loss: 1.5469 - val_accuracy: 0.3092\n",
            "Epoch 3/80\n",
            "55/55 [==============================] - 7s 132ms/step - loss: 1.3569 - accuracy: 0.4579 - val_loss: 1.5146 - val_accuracy: 0.4276\n",
            "Epoch 4/80\n",
            "55/55 [==============================] - 7s 135ms/step - loss: 1.2892 - accuracy: 0.5003 - val_loss: 1.5302 - val_accuracy: 0.2829\n",
            "Epoch 5/80\n",
            "55/55 [==============================] - 10s 175ms/step - loss: 1.2477 - accuracy: 0.5100 - val_loss: 1.4602 - val_accuracy: 0.3553\n",
            "Epoch 6/80\n",
            "55/55 [==============================] - 7s 136ms/step - loss: 1.1547 - accuracy: 0.5736 - val_loss: 1.3810 - val_accuracy: 0.3882\n",
            "Epoch 7/80\n",
            "55/55 [==============================] - 8s 137ms/step - loss: 1.0950 - accuracy: 0.5903 - val_loss: 1.5028 - val_accuracy: 0.3553\n",
            "Epoch 8/80\n",
            "55/55 [==============================] - 7s 132ms/step - loss: 1.0051 - accuracy: 0.6281 - val_loss: 1.2511 - val_accuracy: 0.5461\n",
            "Epoch 9/80\n",
            "55/55 [==============================] - 8s 138ms/step - loss: 0.9718 - accuracy: 0.6481 - val_loss: 1.2009 - val_accuracy: 0.4539\n",
            "Epoch 10/80\n",
            "55/55 [==============================] - 10s 174ms/step - loss: 0.8715 - accuracy: 0.6779 - val_loss: 1.0915 - val_accuracy: 0.5132\n",
            "Epoch 11/80\n",
            "55/55 [==============================] - 7s 134ms/step - loss: 0.8040 - accuracy: 0.7140 - val_loss: 1.0226 - val_accuracy: 0.5724\n",
            "Epoch 12/80\n",
            "55/55 [==============================] - 8s 137ms/step - loss: 0.7711 - accuracy: 0.7352 - val_loss: 1.2226 - val_accuracy: 0.5000\n",
            "Epoch 13/80\n",
            "55/55 [==============================] - 7s 134ms/step - loss: 0.6405 - accuracy: 0.7799 - val_loss: 0.9942 - val_accuracy: 0.6513\n",
            "Epoch 14/80\n",
            "55/55 [==============================] - 8s 137ms/step - loss: 0.6293 - accuracy: 0.7759 - val_loss: 0.7006 - val_accuracy: 0.7500\n",
            "Epoch 15/80\n",
            "55/55 [==============================] - 8s 139ms/step - loss: 0.5509 - accuracy: 0.8132 - val_loss: 0.8889 - val_accuracy: 0.7237\n",
            "Epoch 16/80\n",
            "55/55 [==============================] - 9s 169ms/step - loss: 0.4692 - accuracy: 0.8384 - val_loss: 0.9394 - val_accuracy: 0.6579\n",
            "Epoch 17/80\n",
            "55/55 [==============================] - 8s 137ms/step - loss: 0.4428 - accuracy: 0.8458 - val_loss: 0.6056 - val_accuracy: 0.7697\n",
            "Epoch 18/80\n",
            "55/55 [==============================] - 7s 132ms/step - loss: 0.3935 - accuracy: 0.8688 - val_loss: 0.6335 - val_accuracy: 0.8224\n",
            "Epoch 19/80\n",
            "55/55 [==============================] - 8s 138ms/step - loss: 0.3339 - accuracy: 0.8940 - val_loss: 1.0102 - val_accuracy: 0.6974\n",
            "Epoch 20/80\n",
            "55/55 [==============================] - 8s 137ms/step - loss: 0.3002 - accuracy: 0.8980 - val_loss: 0.8652 - val_accuracy: 0.6776\n",
            "Epoch 21/80\n",
            "55/55 [==============================] - 10s 175ms/step - loss: 0.2910 - accuracy: 0.8951 - val_loss: 0.8565 - val_accuracy: 0.7434\n",
            "Epoch 22/80\n",
            "55/55 [==============================] - 8s 138ms/step - loss: 0.2058 - accuracy: 0.9352 - val_loss: 0.5803 - val_accuracy: 0.7895\n",
            "Epoch 23/80\n",
            "55/55 [==============================] - 8s 137ms/step - loss: 0.1666 - accuracy: 0.9479 - val_loss: 0.5578 - val_accuracy: 0.8553\n",
            "Epoch 24/80\n",
            "55/55 [==============================] - 8s 142ms/step - loss: 0.1373 - accuracy: 0.9570 - val_loss: 0.6537 - val_accuracy: 0.8158\n",
            "Epoch 25/80\n",
            "55/55 [==============================] - 8s 140ms/step - loss: 0.1457 - accuracy: 0.9605 - val_loss: 0.4900 - val_accuracy: 0.8750\n",
            "Epoch 26/80\n",
            "55/55 [==============================] - 9s 163ms/step - loss: 0.1572 - accuracy: 0.9450 - val_loss: 1.1349 - val_accuracy: 0.7434\n",
            "Epoch 27/80\n",
            "55/55 [==============================] - 8s 147ms/step - loss: 0.1381 - accuracy: 0.9582 - val_loss: 0.5307 - val_accuracy: 0.8684\n",
            "Epoch 28/80\n",
            "55/55 [==============================] - 8s 137ms/step - loss: 0.0928 - accuracy: 0.9719 - val_loss: 0.5408 - val_accuracy: 0.9013\n",
            "Epoch 29/80\n",
            "55/55 [==============================] - 7s 136ms/step - loss: 0.0750 - accuracy: 0.9777 - val_loss: 0.4624 - val_accuracy: 0.8684\n",
            "Epoch 30/80\n",
            "55/55 [==============================] - 8s 137ms/step - loss: 0.0706 - accuracy: 0.9817 - val_loss: 0.3773 - val_accuracy: 0.9079\n",
            "Epoch 31/80\n",
            "55/55 [==============================] - 7s 134ms/step - loss: 0.0694 - accuracy: 0.9834 - val_loss: 0.4799 - val_accuracy: 0.9211\n",
            "Epoch 32/80\n",
            "55/55 [==============================] - 10s 181ms/step - loss: 0.0416 - accuracy: 0.9903 - val_loss: 0.4586 - val_accuracy: 0.9013\n",
            "Epoch 33/80\n",
            "55/55 [==============================] - 7s 136ms/step - loss: 0.0706 - accuracy: 0.9765 - val_loss: 1.0174 - val_accuracy: 0.7763\n",
            "Epoch 34/80\n",
            "55/55 [==============================] - 8s 138ms/step - loss: 0.0935 - accuracy: 0.9713 - val_loss: 0.6083 - val_accuracy: 0.8947\n",
            "Epoch 35/80\n",
            "55/55 [==============================] - 8s 140ms/step - loss: 0.0543 - accuracy: 0.9857 - val_loss: 0.5906 - val_accuracy: 0.8816\n",
            "Epoch 36/80\n",
            "55/55 [==============================] - 7s 135ms/step - loss: 0.0507 - accuracy: 0.9857 - val_loss: 0.4825 - val_accuracy: 0.8947\n",
            "Epoch 37/80\n",
            "55/55 [==============================] - 10s 178ms/step - loss: 0.0485 - accuracy: 0.9851 - val_loss: 0.3937 - val_accuracy: 0.8684\n",
            "Epoch 38/80\n",
            "55/55 [==============================] - 7s 136ms/step - loss: 0.0478 - accuracy: 0.9868 - val_loss: 0.9141 - val_accuracy: 0.8421\n",
            "Epoch 39/80\n",
            "55/55 [==============================] - 7s 134ms/step - loss: 0.0410 - accuracy: 0.9880 - val_loss: 0.6303 - val_accuracy: 0.8947\n",
            "Epoch 40/80\n",
            "55/55 [==============================] - 8s 139ms/step - loss: 0.0270 - accuracy: 0.9926 - val_loss: 0.6066 - val_accuracy: 0.9211\n",
            "Epoch 41/80\n",
            "55/55 [==============================] - 7s 135ms/step - loss: 0.0190 - accuracy: 0.9943 - val_loss: 0.6782 - val_accuracy: 0.9145\n",
            "Epoch 42/80\n",
            "55/55 [==============================] - 9s 158ms/step - loss: 0.0165 - accuracy: 0.9960 - val_loss: 0.9672 - val_accuracy: 0.8553\n",
            "Epoch 43/80\n",
            "55/55 [==============================] - 8s 151ms/step - loss: 0.0148 - accuracy: 0.9971 - val_loss: 0.7949 - val_accuracy: 0.8947\n",
            "Epoch 44/80\n",
            "55/55 [==============================] - 7s 135ms/step - loss: 0.0189 - accuracy: 0.9954 - val_loss: 0.5675 - val_accuracy: 0.9145\n",
            "Epoch 45/80\n",
            "55/55 [==============================] - 7s 136ms/step - loss: 0.0237 - accuracy: 0.9943 - val_loss: 0.6112 - val_accuracy: 0.9145\n",
            "Epoch 46/80\n",
            "55/55 [==============================] - 7s 136ms/step - loss: 0.0362 - accuracy: 0.9897 - val_loss: 0.5181 - val_accuracy: 0.9211\n",
            "Epoch 47/80\n",
            "55/55 [==============================] - 7s 136ms/step - loss: 0.1346 - accuracy: 0.9559 - val_loss: 0.7513 - val_accuracy: 0.8684\n",
            "Epoch 48/80\n",
            "55/55 [==============================] - 10s 174ms/step - loss: 0.0550 - accuracy: 0.9845 - val_loss: 0.6179 - val_accuracy: 0.9079\n",
            "Epoch 49/80\n",
            "55/55 [==============================] - 7s 136ms/step - loss: 0.0477 - accuracy: 0.9868 - val_loss: 0.7838 - val_accuracy: 0.8684\n",
            "Epoch 50/80\n",
            "55/55 [==============================] - 7s 136ms/step - loss: 0.0786 - accuracy: 0.9742 - val_loss: 0.8918 - val_accuracy: 0.8289\n",
            "Epoch 51/80\n",
            "55/55 [==============================] - 7s 133ms/step - loss: 0.0357 - accuracy: 0.9903 - val_loss: 0.5706 - val_accuracy: 0.9145\n",
            "Epoch 52/80\n",
            "55/55 [==============================] - 8s 141ms/step - loss: 0.0355 - accuracy: 0.9885 - val_loss: 0.5644 - val_accuracy: 0.8816\n",
            "Epoch 53/80\n",
            "55/55 [==============================] - 10s 174ms/step - loss: 0.0156 - accuracy: 0.9966 - val_loss: 0.7840 - val_accuracy: 0.8750\n",
            "Epoch 54/80\n",
            "55/55 [==============================] - 7s 133ms/step - loss: 0.0218 - accuracy: 0.9937 - val_loss: 0.6851 - val_accuracy: 0.8947\n",
            "Epoch 55/80\n",
            "55/55 [==============================] - 7s 136ms/step - loss: 0.0136 - accuracy: 0.9971 - val_loss: 0.5036 - val_accuracy: 0.9211\n",
            "Epoch 56/80\n",
            "55/55 [==============================] - 7s 134ms/step - loss: 0.0154 - accuracy: 0.9954 - val_loss: 0.8941 - val_accuracy: 0.8750\n",
            "Epoch 57/80\n",
            "55/55 [==============================] - 7s 132ms/step - loss: 0.0083 - accuracy: 0.9977 - val_loss: 0.8456 - val_accuracy: 0.8947\n",
            "Epoch 58/80\n",
            "55/55 [==============================] - 7s 133ms/step - loss: 0.0087 - accuracy: 0.9971 - val_loss: 0.7207 - val_accuracy: 0.9145\n",
            "Epoch 59/80\n",
            "55/55 [==============================] - 10s 174ms/step - loss: 0.0270 - accuracy: 0.9931 - val_loss: 0.5855 - val_accuracy: 0.9276\n",
            "Epoch 60/80\n",
            "55/55 [==============================] - 8s 141ms/step - loss: 0.0190 - accuracy: 0.9937 - val_loss: 0.6197 - val_accuracy: 0.9013\n",
            "Epoch 61/80\n",
            "55/55 [==============================] - 7s 132ms/step - loss: 0.0210 - accuracy: 0.9914 - val_loss: 0.8878 - val_accuracy: 0.8816\n",
            "Epoch 62/80\n",
            "55/55 [==============================] - 7s 134ms/step - loss: 0.0277 - accuracy: 0.9903 - val_loss: 1.0893 - val_accuracy: 0.8289\n",
            "Epoch 63/80\n",
            "55/55 [==============================] - 8s 137ms/step - loss: 0.0188 - accuracy: 0.9948 - val_loss: 1.1786 - val_accuracy: 0.8684\n",
            "Epoch 64/80\n",
            "55/55 [==============================] - 9s 171ms/step - loss: 0.0415 - accuracy: 0.9880 - val_loss: 0.8290 - val_accuracy: 0.8421\n",
            "Epoch 65/80\n",
            "55/55 [==============================] - 7s 136ms/step - loss: 0.0458 - accuracy: 0.9834 - val_loss: 1.5175 - val_accuracy: 0.7368\n",
            "Epoch 66/80\n",
            "55/55 [==============================] - 7s 132ms/step - loss: 0.0712 - accuracy: 0.9771 - val_loss: 1.6069 - val_accuracy: 0.6776\n",
            "Epoch 67/80\n",
            "55/55 [==============================] - 7s 132ms/step - loss: 0.0277 - accuracy: 0.9914 - val_loss: 1.0359 - val_accuracy: 0.8026\n",
            "Epoch 68/80\n",
            "55/55 [==============================] - 8s 138ms/step - loss: 0.0225 - accuracy: 0.9937 - val_loss: 0.6350 - val_accuracy: 0.8882\n",
            "Epoch 69/80\n",
            "55/55 [==============================] - 7s 131ms/step - loss: 0.0664 - accuracy: 0.9788 - val_loss: 1.6027 - val_accuracy: 0.7368\n",
            "Epoch 70/80\n",
            "55/55 [==============================] - 10s 174ms/step - loss: 0.0394 - accuracy: 0.9857 - val_loss: 0.7890 - val_accuracy: 0.8684\n",
            "Epoch 71/80\n",
            "55/55 [==============================] - 8s 137ms/step - loss: 0.0520 - accuracy: 0.9834 - val_loss: 0.8063 - val_accuracy: 0.8750\n",
            "Epoch 72/80\n",
            "55/55 [==============================] - 8s 139ms/step - loss: 0.0600 - accuracy: 0.9759 - val_loss: 0.7319 - val_accuracy: 0.8684\n",
            "Epoch 73/80\n",
            "55/55 [==============================] - 8s 138ms/step - loss: 0.0433 - accuracy: 0.9851 - val_loss: 0.5045 - val_accuracy: 0.9211\n",
            "Epoch 74/80\n",
            "55/55 [==============================] - 7s 131ms/step - loss: 0.0332 - accuracy: 0.9891 - val_loss: 0.4890 - val_accuracy: 0.9079\n",
            "Epoch 75/80\n",
            "55/55 [==============================] - 10s 181ms/step - loss: 0.0411 - accuracy: 0.9834 - val_loss: 0.8500 - val_accuracy: 0.8618\n",
            "Epoch 76/80\n",
            "55/55 [==============================] - 7s 135ms/step - loss: 0.0325 - accuracy: 0.9891 - val_loss: 1.0992 - val_accuracy: 0.8618\n",
            "Epoch 77/80\n",
            "55/55 [==============================] - 8s 137ms/step - loss: 0.0770 - accuracy: 0.9713 - val_loss: 0.7055 - val_accuracy: 0.8750\n",
            "Epoch 78/80\n",
            "55/55 [==============================] - 7s 135ms/step - loss: 0.0176 - accuracy: 0.9971 - val_loss: 0.6592 - val_accuracy: 0.9145\n",
            "Epoch 79/80\n",
            "55/55 [==============================] - 7s 132ms/step - loss: 0.0299 - accuracy: 0.9880 - val_loss: 0.6485 - val_accuracy: 0.9079\n",
            "Epoch 80/80\n",
            "55/55 [==============================] - 8s 149ms/step - loss: 0.0315 - accuracy: 0.9908 - val_loss: 0.5361 - val_accuracy: 0.9211\n"
          ]
        }
      ],
      "source": [
        "Epoch_no = 80\n",
        "Model = model.fit(X_tr,Y_tr,epochs = Epoch_no,validation_split=0.1,batch_size=32,validation_data=(P_ts,Q_ts),callbacks=[[tb]])\n",
        "score = model.evaluate(X_tr,Y_tr,verbose=0)\n"
      ]
    },
    {
      "cell_type": "code",
      "execution_count": null,
      "metadata": {
        "id": "NmIBsjogFg43",
        "colab": {
          "base_uri": "https://localhost:8080/",
          "height": 610
        },
        "outputId": "37c8f9a5-5bbb-478c-df15-63a3fefc97d7"
      },
      "outputs": [
        {
          "output_type": "stream",
          "name": "stdout",
          "text": [
            "Test set loss:  0.024379463866353035\n",
            "Test set accuracy:  99.25501346588135\n"
          ]
        },
        {
          "output_type": "display_data",
          "data": {
            "text/plain": [
              "<Figure size 432x288 with 1 Axes>"
            ],
            "image/png": "[encoded data removed]"
          },
          "metadata": {
            "needs_background": "light"
          }
        },
        {
          "output_type": "display_data",
          "data": {
            "text/plain": [
              "<Figure size 432x288 with 1 Axes>"
            ],
            "image/png": "[encoded data removed]"
          },
          "metadata": {
            "needs_background": "light"
          }
        }
      ],
      "source": [
        "print(\"Test set loss: \", score[0])\n",
        "print(\"Test set accuracy: \", score[1]*100)\n",
        "\n",
        "epoch_range = range(1, Epoch_no+1)\n",
        "plt.plot(epoch_range,Model.history['accuracy'])\n",
        "plt.plot(epoch_range,Model.history['val_accuracy'])\n",
        "plt.title('Classification Accuracy')\n",
        "plt.ylabel('Accuracy')\n",
        "plt.xlabel('Epoch')\n",
        "plt.legend(['Train','val'], loc = 'lower right')\n",
        "plt.show()\n",
        "\n",
        "plt.plot(epoch_range,Model.history['loss'])\n",
        "plt.plot(epoch_range,Model.history['val_loss'])\n",
        "plt.title('Model loss')\n",
        "plt.ylabel('loss')\n",
        "plt.xlabel('Epoch')\n",
        "plt.legend(['Train','val'], loc = 'lower right')\n",
        "plt.show()"
      ]
    },
    {
      "cell_type": "code",
      "execution_count": null,
      "metadata": {
        "id": "ntVpbOu1NOD6",
        "colab": {
          "base_uri": "https://localhost:8080/"
        },
        "outputId": "dbe88b96-51cd-4447-b6f9-f20289bb2e51"
      },
      "outputs": [
        {
          "output_type": "stream",
          "name": "stdout",
          "text": [
            "accuracy:  99.255013%\n"
          ]
        }
      ],
      "source": [
        "print(\"%s:  %2f%%\"%(model.metrics_names[1], score[1]*100))"
      ]
    },
    {
      "cell_type": "markdown",
      "metadata": {
        "id": "ejVRMGttK1Sm"
      },
      "source": [
        "#Saving The Model"
      ]
    },
    {
      "cell_type": "code",
      "execution_count": null,
      "metadata": {
        "id": "wmgWWJ4j6QR5"
      },
      "outputs": [],
      "source": [
        "model.save(f\"/content/drive/MyDrive/AiHackathon/trainedModel/model.h5\")\n",
        "model.save_weights(\"/content/drive/MyDrive/AiHackathon/trainedModel/Weights.h5\")"
      ]
    },
    {
      "cell_type": "markdown",
      "metadata": {
        "id": "SjWGpme5TXcN"
      },
      "source": [
        "#Predicting Images"
      ]
    },
    {
      "cell_type": "code",
      "execution_count": null,
      "metadata": {
        "id": "btfWK4irYL-Y"
      },
      "outputs": [],
      "source": [
        "from sre_constants import CATEGORY\n",
        "model = tf.keras.models.load_model(\"/content/drive/MyDrive/AiHackathon/trainedModel/model.h5\")  #loading the model\n",
        "\n",
        "filename = input(\"Enter the path of the image: \")  #taking the image path as user input\n",
        "def predict(filename, model):\n",
        "  \n",
        "  img = cv2.imread(filename,cv2.IMREAD_GRAYSCALE)  #reading the image\n",
        "  plt.imshow(img)\n",
        "  plt.show()\n",
        "\n",
        "  img = cv2.resize(img, (IMG_SIZE, IMG_SIZE))\n",
        "  img =np.array(img).reshape(-1,IMG_SIZE, IMG_SIZE, 1)\n",
        "  img = np.asarray(img)\n",
        "  img = img.astype('float32')\n",
        "  img /= 255.0\n",
        "  result = model.predict(img)  #using the model to predict the image\n",
        "\n",
        "  dict_result = {}\n",
        "  for i in range(5):\n",
        "    dict_result[result[0][i]] = CATEGORIES[i]\n",
        "  \n",
        "  res = result[0]\n",
        "  res.sort()  #sorting the result\n",
        "  res = res[::-1]\n",
        "  prob = res[:5]\n",
        "\n",
        "  prob_result = []\n",
        "  cat_result = []\n",
        "\n",
        "  for i in range(5):\n",
        "    prob_result.append((prob[i]*100).round(2))\n",
        "    cat_result.append(dict_result[prob[i]])\n",
        "  \n",
        "  for c in range(len(CATEGORIES)):\n",
        "   print(f\"{cat_result[c]}: {prob_result[c]}%\") #displaying\n",
        "  \n",
        "  # return cat_result, prob_result\n",
        "\n",
        "predict(filename,model)"
      ]
    }
  ],
  "metadata": {
    "colab": {
      "provenance": []
    },
    "kernelspec": {
      "display_name": "Python 3",
      "name": "python3"
    },
    "language_info": {
      "name": "python"
    }
  },
  "nbformat": 4,
  "nbformat_minor": 0
}